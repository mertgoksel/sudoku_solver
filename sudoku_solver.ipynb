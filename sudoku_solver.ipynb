{
 "cells": [
  {
   "cell_type": "code",
   "execution_count": 142,
   "id": "32d45b84-2a95-44d8-acca-249526a570fe",
   "metadata": {},
   "outputs": [],
   "source": [
    "import numpy as np\n",
    "import math as mt\n",
    "import collections as c\n",
    "\n",
    "class sudoku:\n",
    "    def __init__(self, grid):\n",
    "        self.grid = grid #9x9 matrix, initial version of the sudoku that is to be solved. Empty spaces are 0.\n",
    "        self.__ghost__ = {i:list(range(1,10)) for i in range(81)} #by_horizontal_index\n",
    "        self.__g__() #run ghosts at initialization\n",
    "        self.__boxes__ = [[self.__get_box_indexes__([i,j]) for j in range(0,9,3)] for i in range(0,9,3)]\n",
    "        self.__boxes__ = [*self.__boxes__[0],*self.__boxes__[1],*self.__boxes__[2]]\n",
    "        \n",
    "    def __get_box_indexes__(self, position):\n",
    "        row_int = (position[0])//3\n",
    "        col_int = (position[1])//3\n",
    "        positions = [(row+row_int*3,col+col_int*3) for row in range(3) for col in range(3)]\n",
    "        indexes = [a*9+b for a,b in positions]\n",
    "        return indexes \n",
    "    \n",
    "    def grid(self):\n",
    "        print(self.grid)\n",
    "        \n",
    "    def __g__(self): #pencil marker\n",
    "        for i in range(9):\n",
    "            for j in range(9):\n",
    "                if self.grid[i,j] == 0:\n",
    "                    continue\n",
    "\n",
    "                self.__ghost__[i*9+j] = []\n",
    "\n",
    "                column_i = [an for an in range(j,81,9)]\n",
    "                row_i = [an+i*9 for an in range(9)]\n",
    "                box_i = self.__get_box_indexes__([i,j])\n",
    "\n",
    "                for k in column_i:\n",
    "                    if self.grid[i,j] in self.__ghost__[k]:\n",
    "                        self.__ghost__[k].remove(self.grid[i,j])\n",
    "                for k in row_i:\n",
    "                    if self.grid[i,j] in self.__ghost__[k]:\n",
    "                        self.__ghost__[k].remove(self.grid[i,j])\n",
    "                for k in box_i:\n",
    "                    if self.grid[i,j] in self.__ghost__[k]:\n",
    "                        self.__ghost__[k].remove(self.grid[i,j])\n",
    "    \n",
    "    def solve_easy(self): #Sudokus that can be solved with naked singles only.\n",
    "        flag = 0\n",
    "        while flag == 0:\n",
    "            for index, l in list(self.__ghost__.items()):\n",
    "                if len(l) == 1:\n",
    "                    self.grid[index//9, index%9] = l[0]\n",
    "                    self.__g__()\n",
    "                    break\n",
    "                if index == len(list(self.__ghost__.items()))-1:\n",
    "                    flag = 1\n",
    "        \n",
    "    def __naked_pairs__(self):\n",
    "        for k in range(0,9):\n",
    "            for i in self.__boxes__[k]:\n",
    "                for j in self.__boxes__[k]:\n",
    "                    if i == j:\n",
    "                        continue\n",
    "                    if self.__ghost__[i] == self.__ghost__[j]:\n",
    "                        same = self.__ghost__[i]\n",
    "                        for n in self.__boxes__[k]:\n",
    "                            if j != n and i != n:\n",
    "                                for item in same:\n",
    "                                    if item in self.__ghost__[n]:\n",
    "                                        self.__ghost__[n].remove(item)\n",
    "    \n",
    "    def __naked_triplets__(self):\n",
    "        for k in range(0,9):\n",
    "            for i in self.__boxes__[k]:\n",
    "                for j in self.__boxes__[k]:\n",
    "                    for l in self.__boxes__[k]:\n",
    "                        if i == j or j == l or i == l:\n",
    "                            continue\n",
    "                        if self.__ghost__[i] == self.__ghost__[j] == self.__ghost__[l]:\n",
    "                            same = self.__ghost__[i]\n",
    "                            for n in self.__boxes__[k]:\n",
    "                                if j != n and i != n and l != n:\n",
    "                                    for item in same:\n",
    "                                        if item in self.__ghost__[n]:\n",
    "                                            self.__ghost__[n].remove(item)\n",
    "\n",
    "    \n",
    "    def solve(self): #ALL SUDOKUS\n",
    "        pass\n",
    "        \n",
    "    def pencil_marks(self):\n",
    "        for i in range(81):\n",
    "            print(self.__ghost__[i])"
   ]
  },
  {
   "cell_type": "code",
   "execution_count": 143,
   "id": "e970a447-100c-4f1e-bfca-0c1ba2e0ef39",
   "metadata": {},
   "outputs": [],
   "source": [
    "k = np.array([[ 0, 0, 4, 0, 0, 0, 0, 6, 7 ],\n",
    "              [ 3, 0, 0, 4, 7, 0, 0, 0, 5 ],\n",
    "              [ 1, 5, 0, 8, 2, 0, 0, 0, 3 ],\n",
    "              [ 0, 0, 6, 0, 0, 0, 0, 3, 1 ],\n",
    "              [ 8, 0, 2, 1, 0, 5, 6, 0, 4 ],\n",
    "              [ 4, 1, 0, 0, 0, 0, 9, 0, 0 ],\n",
    "              [ 7, 0, 0, 0, 8, 0, 0, 4, 6 ],\n",
    "              [ 6, 0, 0, 0, 1, 2, 0, 0, 0 ],\n",
    "              [ 9, 3, 0, 0, 0, 0, 7, 1, 0 ]])\n",
    "l = sudoku(k)\n",
    "l.__ghost__[l.__boxes__[0][-1]] = [8,9]"
   ]
  },
  {
   "cell_type": "code",
   "execution_count": 146,
   "id": "8c4e5a02",
   "metadata": {},
   "outputs": [
    {
     "data": {
      "text/plain": [
       "[[2], [2], [], [], [2, 6], [8, 9], [], [], [8, 9]]"
      ]
     },
     "execution_count": 146,
     "metadata": {},
     "output_type": "execute_result"
    }
   ],
   "source": [
    "[l.__ghost__[i] for i in l.__boxes__[0]]"
   ]
  },
  {
   "cell_type": "code",
   "execution_count": 145,
   "id": "cbb3c989",
   "metadata": {},
   "outputs": [],
   "source": [
    "l.__naked_pairs__()"
   ]
  }
 ],
 "metadata": {
  "kernelspec": {
   "display_name": "Python 3.10.7 ('base')",
   "language": "python",
   "name": "python3"
  },
  "language_info": {
   "codemirror_mode": {
    "name": "ipython",
    "version": 3
   },
   "file_extension": ".py",
   "mimetype": "text/x-python",
   "name": "python",
   "nbconvert_exporter": "python",
   "pygments_lexer": "ipython3",
   "version": "3.10.7"
  },
  "vscode": {
   "interpreter": {
    "hash": "19acee39b000c45855a51076ebc1e3ca2aa2c97500a5e110833a05d3383d155f"
   }
  }
 },
 "nbformat": 4,
 "nbformat_minor": 5
}
