{
 "cells": [
  {
   "cell_type": "code",
   "execution_count": 55,
   "id": "32d45b84-2a95-44d8-acca-249526a570fe",
   "metadata": {},
   "outputs": [],
   "source": [
    "import numpy as np\n",
    "import math as mt\n",
    "\n",
    "class sudoku:\n",
    "    def __init__(self, grid):\n",
    "        self.grid = grid #9x9 matrix, initial version of the sudoku that is to be solved. Empty spaces are 0.\n",
    "        self.ghost = {i:list(range(1,10)) for i in range(81)} #by_horizontal_index\n",
    "        self.__g__() #run ghosts at initialization\n",
    "        \n",
    "    def __get_box_indexes__(self, position):\n",
    "        row_int = (position[0])//3\n",
    "        col_int = (position[1])//3\n",
    "        positions = [(row+row_int*3,col+col_int*3) for row in range(3) for col in range(3)]\n",
    "        indexes = [a*9+b for a,b in positions]\n",
    "        return indexes\n",
    "    \n",
    "    def grid(self):\n",
    "        print(self.grid)\n",
    "        \n",
    "    def __g__(self): #pencil marker\n",
    "        for i in range(9):\n",
    "            for j in range(9):\n",
    "                if self.grid[i,j] == 0:\n",
    "                    continue\n",
    "\n",
    "                self.ghost[i*9+j] = []\n",
    "\n",
    "                column_i = [an for an in range(j,81,9)]\n",
    "                row_i = [an+i*9 for an in range(9)]\n",
    "                box_i = self.__get_box_indexes__([i,j])\n",
    "\n",
    "                for k in column_i:\n",
    "                    if self.grid[i,j] in self.ghost[k]:\n",
    "                        self.ghost[k].remove(self.grid[i,j])\n",
    "                for k in row_i:\n",
    "                    if self.grid[i,j] in self.ghost[k]:\n",
    "                        self.ghost[k].remove(self.grid[i,j])\n",
    "                for k in box_i:\n",
    "                    if self.grid[i,j] in self.ghost[k]:\n",
    "                        self.ghost[k].remove(self.grid[i,j])\n",
    "    \n",
    "    def solve_easy(self): #Sudokus that can be solved with naked singles only.\n",
    "        flag = 0\n",
    "        while flag == 0:\n",
    "            for index, l in list(self.ghost.items()):\n",
    "                if len(l) == 1:\n",
    "                    self.grid[index//9, index%9] = l[0]\n",
    "                    self.ghost = {i:list(range(1,10)) for i in range(81)}\n",
    "                    self.__g__()\n",
    "                    break\n",
    "                if index == len(list(self.ghost.items()))-1:\n",
    "                    flag = 1\n",
    "        print(self.grid)\n",
    "    \n",
    "    def pencil_marks(self):\n",
    "        for i in range(81):\n",
    "            print(self.ghost[i])"
   ]
  },
  {
   "cell_type": "code",
   "execution_count": 56,
   "id": "e970a447-100c-4f1e-bfca-0c1ba2e0ef39",
   "metadata": {},
   "outputs": [
    {
     "name": "stdout",
     "output_type": "stream",
     "text": [
      "[[2 8 4 5 9 3 1 6 7]\n",
      " [3 6 9 4 7 1 8 2 5]\n",
      " [1 5 7 8 2 6 4 9 3]\n",
      " [5 7 6 9 4 8 2 3 1]\n",
      " [8 9 2 1 3 5 6 7 4]\n",
      " [4 1 3 2 6 7 9 5 8]\n",
      " [7 2 1 3 8 9 5 4 6]\n",
      " [6 4 5 7 1 2 3 8 9]\n",
      " [9 3 8 6 5 4 7 1 2]]\n"
     ]
    }
   ],
   "source": [
    "k = np.array([[ 0, 0, 4, 0, 0, 0, 0, 6, 7 ],\n",
    "              [ 3, 0, 0, 4, 7, 0, 0, 0, 5 ],\n",
    "              [ 1, 5, 0, 8, 2, 0, 0, 0, 3 ],\n",
    "              [ 0, 0, 6, 0, 0, 0, 0, 3, 1 ],\n",
    "              [ 8, 0, 2, 1, 0, 5, 6, 0, 4 ],\n",
    "              [ 4, 1, 0, 0, 0, 0, 9, 0, 0 ],\n",
    "              [ 7, 0, 0, 0, 8, 0, 0, 4, 6 ],\n",
    "              [ 6, 0, 0, 0, 1, 2, 0, 0, 0 ],\n",
    "              [ 9, 3, 0, 0, 0, 0, 7, 1, 0 ]])\n",
    "l = sudoku(k)\n",
    "l.solve_easy()"
   ]
  }
 ],
 "metadata": {
  "kernelspec": {
   "display_name": "Python 3 (ipykernel)",
   "language": "python",
   "name": "python3"
  },
  "language_info": {
   "codemirror_mode": {
    "name": "ipython",
    "version": 3
   },
   "file_extension": ".py",
   "mimetype": "text/x-python",
   "name": "python",
   "nbconvert_exporter": "python",
   "pygments_lexer": "ipython3",
   "version": "3.10.3"
  }
 },
 "nbformat": 4,
 "nbformat_minor": 5
}
