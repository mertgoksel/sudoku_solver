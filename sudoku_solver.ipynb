{
 "cells": [
  {
   "cell_type": "code",
   "execution_count": 190,
   "id": "32d45b84-2a95-44d8-acca-249526a570fe",
   "metadata": {},
   "outputs": [],
   "source": [
    "import numpy as np\n",
    "import math as mt\n",
    "\n",
    "class sudoku:\n",
    "    def __init__(self, grid):\n",
    "        self.grid = grid #9x9 matrix, initial version of the sudoku that is to be solved. Empty spaces are 0.\n",
    "        self.ghost = {i:list(range(1,10)) for i in range(81)} #by_horizontal_index\n",
    "        self.__g__() #run ghosts at initialization\n",
    "        \n",
    "    def __get_box_indexes__(self, position):\n",
    "        row_int = (position[0])//3\n",
    "        col_int = (position[1])//3\n",
    "        positions = [(row+(3*(row_int)), col+(3*col_int)) for row in range(3) for col in range(3)]\n",
    "        indexes = [a+b*9 for a,b in positions]\n",
    "        return indexes\n",
    "    \n",
    "    def grid(self):\n",
    "        print(self.grid)\n",
    "        \n",
    "    def __g__(self):\n",
    "        for i in range(9):\n",
    "            for j in range(9):\n",
    "                if self.grid[i,j] == 0:\n",
    "                    continue\n",
    "\n",
    "                self.ghost[i*9+j] = []\n",
    "\n",
    "                column_i = [an for an in range(j,81,9)]\n",
    "                row_i = [an+i*9 for an in range(9)]\n",
    "                box_i = self.__get_box_indexes__([i,j])\n",
    "\n",
    "                for k in column_i:\n",
    "                    if self.grid[i,j] in self.ghost[k]:\n",
    "                        self.ghost[k].remove(self.grid[i,j])\n",
    "                for k in row_i:\n",
    "                    if self.grid[i,j] in self.ghost[k]:\n",
    "                        self.ghost[k].remove(self.grid[i,j])\n",
    "                for k in box_i:\n",
    "                    if self.grid[i,j] in self.ghost[k]:\n",
    "                        self.ghost[k].remove(self.grid[i,j])\n",
    "                        \n",
    "    def pencil_marks(self):\n",
    "        for i in range(81):\n",
    "            print(self.ghost[i])"
   ]
  },
  {
   "cell_type": "code",
   "execution_count": null,
   "id": "fd325e8f-2742-42d1-9c02-1472c2e89635",
   "metadata": {},
   "outputs": [],
   "source": []
  }
 ],
 "metadata": {
  "kernelspec": {
   "display_name": "Python 3 (ipykernel)",
   "language": "python",
   "name": "python3"
  },
  "language_info": {
   "codemirror_mode": {
    "name": "ipython",
    "version": 3
   },
   "file_extension": ".py",
   "mimetype": "text/x-python",
   "name": "python",
   "nbconvert_exporter": "python",
   "pygments_lexer": "ipython3",
   "version": "3.10.3"
  }
 },
 "nbformat": 4,
 "nbformat_minor": 5
}
